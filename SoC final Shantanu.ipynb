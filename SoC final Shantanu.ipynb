{
 "cells": [
  {
   "cell_type": "markdown",
   "id": "30a90923",
   "metadata": {},
   "source": [
    "# SoC'22\n",
    "## Stock Market Trend Prediction Using Deep Learning\n",
    "### Shantanu Welling (210010076)"
   ]
  },
  {
   "cell_type": "markdown",
   "id": "d6285ea5",
   "metadata": {},
   "source": [
    "#### Implementation of CNN-LSTM paper"
   ]
  },
  {
   "cell_type": "code",
   "execution_count": 1,
   "id": "07bb396a",
   "metadata": {},
   "outputs": [],
   "source": [
    "import pandas as pd\n",
    "import numpy as np\n",
    "from sklearn.model_selection import train_test_split\n",
    "from keras.models import Sequential\n",
    "from keras.layers import Conv1D,MaxPooling1D,LSTM\n",
    "from keras.layers import Dense\n",
    "import keras"
   ]
  },
  {
   "cell_type": "code",
   "execution_count": 2,
   "id": "38ec3709",
   "metadata": {},
   "outputs": [],
   "source": [
    "time_step=10 #time step of input data\n",
    "feature=6 #features of input data\n",
    "split_ratio=0.8 #split ratio of train test split data"
   ]
  },
  {
   "cell_type": "code",
   "execution_count": 3,
   "id": "b9546701",
   "metadata": {},
   "outputs": [],
   "source": [
    "data=pd.read_csv('tata.csv')"
   ]
  },
  {
   "cell_type": "code",
   "execution_count": 4,
   "id": "9d531336",
   "metadata": {},
   "outputs": [],
   "source": [
    "data=pd.DataFrame(data)"
   ]
  },
  {
   "cell_type": "code",
   "execution_count": 5,
   "id": "c9e8b089",
   "metadata": {},
   "outputs": [],
   "source": [
    "Open=np.array(data['Open'])\n",
    "high=np.array(data['High'])\n",
    "low=np.array(data['Low'])\n",
    "close=np.array(data['Close'])\n",
    "adjc=np.array(data['Adj Close'])\n",
    "vol=np.array(data['Volume'])"
   ]
  },
  {
   "cell_type": "code",
   "execution_count": 6,
   "id": "e37fb756",
   "metadata": {},
   "outputs": [
    {
     "data": {
      "text/html": [
       "<div>\n",
       "<style scoped>\n",
       "    .dataframe tbody tr th:only-of-type {\n",
       "        vertical-align: middle;\n",
       "    }\n",
       "\n",
       "    .dataframe tbody tr th {\n",
       "        vertical-align: top;\n",
       "    }\n",
       "\n",
       "    .dataframe thead th {\n",
       "        text-align: right;\n",
       "    }\n",
       "</style>\n",
       "<table border=\"1\" class=\"dataframe\">\n",
       "  <thead>\n",
       "    <tr style=\"text-align: right;\">\n",
       "      <th></th>\n",
       "      <th>Date</th>\n",
       "      <th>Open</th>\n",
       "      <th>High</th>\n",
       "      <th>Low</th>\n",
       "      <th>Close</th>\n",
       "      <th>Adj Close</th>\n",
       "      <th>Volume</th>\n",
       "    </tr>\n",
       "  </thead>\n",
       "  <tbody>\n",
       "    <tr>\n",
       "      <th>0</th>\n",
       "      <td>2017-07-13</td>\n",
       "      <td>464.500000</td>\n",
       "      <td>464.500000</td>\n",
       "      <td>455.549988</td>\n",
       "      <td>459.049988</td>\n",
       "      <td>459.049988</td>\n",
       "      <td>4382063</td>\n",
       "    </tr>\n",
       "    <tr>\n",
       "      <th>1</th>\n",
       "      <td>2017-07-14</td>\n",
       "      <td>460.000000</td>\n",
       "      <td>460.000000</td>\n",
       "      <td>450.399994</td>\n",
       "      <td>451.299988</td>\n",
       "      <td>451.299988</td>\n",
       "      <td>3974269</td>\n",
       "    </tr>\n",
       "    <tr>\n",
       "      <th>2</th>\n",
       "      <td>2017-07-17</td>\n",
       "      <td>455.000000</td>\n",
       "      <td>458.350006</td>\n",
       "      <td>453.250000</td>\n",
       "      <td>454.149994</td>\n",
       "      <td>454.149994</td>\n",
       "      <td>4922453</td>\n",
       "    </tr>\n",
       "    <tr>\n",
       "      <th>3</th>\n",
       "      <td>2017-07-18</td>\n",
       "      <td>452.600006</td>\n",
       "      <td>459.500000</td>\n",
       "      <td>452.600006</td>\n",
       "      <td>456.149994</td>\n",
       "      <td>456.149994</td>\n",
       "      <td>2349268</td>\n",
       "    </tr>\n",
       "    <tr>\n",
       "      <th>4</th>\n",
       "      <td>2017-07-19</td>\n",
       "      <td>453.000000</td>\n",
       "      <td>462.899994</td>\n",
       "      <td>453.000000</td>\n",
       "      <td>460.600006</td>\n",
       "      <td>460.600006</td>\n",
       "      <td>3395937</td>\n",
       "    </tr>\n",
       "    <tr>\n",
       "      <th>...</th>\n",
       "      <td>...</td>\n",
       "      <td>...</td>\n",
       "      <td>...</td>\n",
       "      <td>...</td>\n",
       "      <td>...</td>\n",
       "      <td>...</td>\n",
       "      <td>...</td>\n",
       "    </tr>\n",
       "    <tr>\n",
       "      <th>1231</th>\n",
       "      <td>2022-07-06</td>\n",
       "      <td>414.000000</td>\n",
       "      <td>417.299988</td>\n",
       "      <td>410.649994</td>\n",
       "      <td>416.350006</td>\n",
       "      <td>416.350006</td>\n",
       "      <td>12196920</td>\n",
       "    </tr>\n",
       "    <tr>\n",
       "      <th>1232</th>\n",
       "      <td>2022-07-07</td>\n",
       "      <td>419.899994</td>\n",
       "      <td>432.950012</td>\n",
       "      <td>419.299988</td>\n",
       "      <td>430.850006</td>\n",
       "      <td>430.850006</td>\n",
       "      <td>17616800</td>\n",
       "    </tr>\n",
       "    <tr>\n",
       "      <th>1233</th>\n",
       "      <td>2022-07-08</td>\n",
       "      <td>436.250000</td>\n",
       "      <td>443.850006</td>\n",
       "      <td>429.299988</td>\n",
       "      <td>441.549988</td>\n",
       "      <td>441.549988</td>\n",
       "      <td>23730027</td>\n",
       "    </tr>\n",
       "    <tr>\n",
       "      <th>1234</th>\n",
       "      <td>2022-07-11</td>\n",
       "      <td>438.049988</td>\n",
       "      <td>441.200012</td>\n",
       "      <td>433.450012</td>\n",
       "      <td>437.049988</td>\n",
       "      <td>437.049988</td>\n",
       "      <td>12619654</td>\n",
       "    </tr>\n",
       "    <tr>\n",
       "      <th>1235</th>\n",
       "      <td>2022-07-12</td>\n",
       "      <td>433.000000</td>\n",
       "      <td>435.000000</td>\n",
       "      <td>428.149994</td>\n",
       "      <td>430.549988</td>\n",
       "      <td>430.549988</td>\n",
       "      <td>9518822</td>\n",
       "    </tr>\n",
       "  </tbody>\n",
       "</table>\n",
       "<p>1236 rows × 7 columns</p>\n",
       "</div>"
      ],
      "text/plain": [
       "            Date        Open        High         Low       Close   Adj Close  \\\n",
       "0     2017-07-13  464.500000  464.500000  455.549988  459.049988  459.049988   \n",
       "1     2017-07-14  460.000000  460.000000  450.399994  451.299988  451.299988   \n",
       "2     2017-07-17  455.000000  458.350006  453.250000  454.149994  454.149994   \n",
       "3     2017-07-18  452.600006  459.500000  452.600006  456.149994  456.149994   \n",
       "4     2017-07-19  453.000000  462.899994  453.000000  460.600006  460.600006   \n",
       "...          ...         ...         ...         ...         ...         ...   \n",
       "1231  2022-07-06  414.000000  417.299988  410.649994  416.350006  416.350006   \n",
       "1232  2022-07-07  419.899994  432.950012  419.299988  430.850006  430.850006   \n",
       "1233  2022-07-08  436.250000  443.850006  429.299988  441.549988  441.549988   \n",
       "1234  2022-07-11  438.049988  441.200012  433.450012  437.049988  437.049988   \n",
       "1235  2022-07-12  433.000000  435.000000  428.149994  430.549988  430.549988   \n",
       "\n",
       "        Volume  \n",
       "0      4382063  \n",
       "1      3974269  \n",
       "2      4922453  \n",
       "3      2349268  \n",
       "4      3395937  \n",
       "...        ...  \n",
       "1231  12196920  \n",
       "1232  17616800  \n",
       "1233  23730027  \n",
       "1234  12619654  \n",
       "1235   9518822  \n",
       "\n",
       "[1236 rows x 7 columns]"
      ]
     },
     "execution_count": 6,
     "metadata": {},
     "output_type": "execute_result"
    }
   ],
   "source": [
    "data"
   ]
  },
  {
   "cell_type": "code",
   "execution_count": 7,
   "id": "fc24bfb1",
   "metadata": {},
   "outputs": [],
   "source": [
    "adjcol=5 #column index of adj cp"
   ]
  },
  {
   "cell_type": "markdown",
   "id": "21cfba78",
   "metadata": {},
   "source": [
    "#### Now we take input data and standardize it with the mean and standard deviation of the corresponding time step."
   ]
  },
  {
   "cell_type": "code",
   "execution_count": 8,
   "id": "fd8fc3a1",
   "metadata": {},
   "outputs": [],
   "source": [
    "X = [] #10 days time period input data with all 6 features\n",
    "Y = [] #11th day input data with 6 features corresponding to the previous 10 days input data in X\n",
    " \n",
    "for i in range(0 , len(high) - time_step -1 , 1):\n",
    "    mean1=np.mean(np.array(data.iloc[i:i+time_step,1])) #means and standard deviations of respective\n",
    "    std1=np.std(np.array(data.iloc[i:i+time_step,1]))   #columns\n",
    "    \n",
    "    mean2=np.mean(np.array(data.iloc[i:i+time_step,2]))\n",
    "    std2=np.std(np.array(data.iloc[i:i+time_step,2]))\n",
    "    \n",
    "    mean3=np.mean(np.array(data.iloc[i:i+time_step,3]))\n",
    "    std3=np.std(np.array(data.iloc[i:i+time_step,3]))\n",
    "    \n",
    "    mean4=np.mean(np.array(data.iloc[i:i+time_step,4]))\n",
    "    std4=np.std(np.array(data.iloc[i:i+time_step,4]))\n",
    "    \n",
    "    mean5=np.mean(np.array(data.iloc[i:i+time_step,5]))\n",
    "    std5=np.std(np.array(data.iloc[i:i+time_step,5]))\n",
    "    \n",
    "    mean6=np.mean(np.array(data.iloc[i:i+time_step,6]))\n",
    "    std6=np.std(np.array(data.iloc[i:i+time_step,6]))\n",
    "    \n",
    "    temp = []\n",
    "    temp1=[]\n",
    "    temp2 = []\n",
    "    temp3=[]\n",
    "    temp4=[]\n",
    "    temp5=[]\n",
    "    temp6=[]\n",
    "    temp7=[]\n",
    "    for j in range(time_step):\n",
    "        temp.append((data.iloc[i + j, 1] - mean1) / std1)\n",
    "        temp1.append((data.iloc[i + j, 2] - mean2) / std2)\n",
    "        temp2.append((data.iloc[i + j, 3] - mean3) / std3)\n",
    "        temp4.append((data.iloc[i + j, 4] - mean4) / std4)\n",
    "        temp5.append((data.iloc[i + j, 5] - mean5) / std5)\n",
    "        temp6.append((data.iloc[i + j, 6] - mean6) / std6)\n",
    "    temp3.append((data.iloc[i + time_step, 1] - mean1) / std1)\n",
    "    temp3.append((data.iloc[i + time_step, 2] - mean2) / std2)\n",
    "    temp3.append((data.iloc[i + time_step, 3] - mean3) / std3)\n",
    "    temp3.append((data.iloc[i + time_step, 4] - mean4) / std5)\n",
    "    temp3.append((data.iloc[i + time_step, 5] - mean5) / std5)\n",
    "    temp3.append((data.iloc[i + time_step, 6] - mean6) / std6)\n",
    "    \n",
    "    temp7.append(temp)\n",
    "    temp7.append(temp1)\n",
    "    temp7.append(temp2)\n",
    "    temp7.append(temp4)\n",
    "    temp7.append(temp5)\n",
    "    temp7.append(temp6)\n",
    "    \n",
    "    X.append(np.array(temp7).reshape(time_step,feature))\n",
    "    Y.append(np.array(temp3).reshape(1, feature))"
   ]
  },
  {
   "cell_type": "code",
   "execution_count": 9,
   "id": "2c9e171a",
   "metadata": {},
   "outputs": [],
   "source": [
    "#splitting input data into train and test data in the split_ratio\n",
    "train_x,test_x,train_y,test_y=train_test_split(X,Y,train_size=split_ratio,shuffle=False)\n",
    "train_x=np.array(train_x)\n",
    "test_x=np.array(test_x)\n",
    "train_y=np.array(train_y)\n",
    "test_y=np.array(test_y)"
   ]
  },
  {
   "cell_type": "code",
   "execution_count": 10,
   "id": "cb2afc86",
   "metadata": {},
   "outputs": [
    {
     "name": "stdout",
     "output_type": "stream",
     "text": [
      "Number of train cases: 980\n",
      "Number of test cases: 245\n"
     ]
    }
   ],
   "source": [
    "num_train=len(train_x) #Number of train cases\n",
    "num_test=len(test_x) #Number of test cases\n",
    "print(f\"Number of train cases: {num_train}\")\n",
    "print(f\"Number of test cases: {num_test}\")"
   ]
  },
  {
   "cell_type": "markdown",
   "id": "8a4a0526",
   "metadata": {},
   "source": [
    "#### Making the CNN-LSTM Model with parameters mentioned in the given paper. Using mean absolute error as loss function for back propagation."
   ]
  },
  {
   "cell_type": "code",
   "execution_count": 11,
   "id": "13796330",
   "metadata": {
    "collapsed": true
   },
   "outputs": [
    {
     "name": "stdout",
     "output_type": "stream",
     "text": [
      "Epoch 1/100\n",
      "31/31 [==============================] - 3s 22ms/step - loss: 1.3862 - val_loss: 1.3686\n",
      "Epoch 2/100\n",
      "31/31 [==============================] - 0s 8ms/step - loss: 1.3835 - val_loss: 1.3759\n",
      "Epoch 3/100\n",
      "31/31 [==============================] - 0s 9ms/step - loss: 1.3841 - val_loss: 1.3757\n",
      "Epoch 4/100\n",
      "31/31 [==============================] - 0s 10ms/step - loss: 1.3836 - val_loss: 1.3772\n",
      "Epoch 5/100\n",
      "31/31 [==============================] - 0s 9ms/step - loss: 1.3834 - val_loss: 1.3769\n",
      "Epoch 6/100\n",
      "31/31 [==============================] - 0s 9ms/step - loss: 1.3835 - val_loss: 1.3703\n",
      "Epoch 7/100\n",
      "31/31 [==============================] - 0s 8ms/step - loss: 1.3834 - val_loss: 1.3718\n",
      "Epoch 8/100\n",
      "31/31 [==============================] - 0s 9ms/step - loss: 1.3832 - val_loss: 1.3675\n",
      "Epoch 9/100\n",
      "31/31 [==============================] - 0s 9ms/step - loss: 1.3836 - val_loss: 1.3748\n",
      "Epoch 10/100\n",
      "31/31 [==============================] - 0s 8ms/step - loss: 1.3834 - val_loss: 1.3675\n",
      "Epoch 11/100\n",
      "31/31 [==============================] - 0s 9ms/step - loss: 1.3834 - val_loss: 1.3717\n",
      "Epoch 12/100\n",
      "31/31 [==============================] - 0s 9ms/step - loss: 1.3831 - val_loss: 1.3735\n",
      "Epoch 13/100\n",
      "31/31 [==============================] - 0s 8ms/step - loss: 1.3830 - val_loss: 1.3738\n",
      "Epoch 14/100\n",
      "31/31 [==============================] - 0s 8ms/step - loss: 1.3837 - val_loss: 1.3772\n",
      "Epoch 15/100\n",
      "31/31 [==============================] - 0s 9ms/step - loss: 1.3828 - val_loss: 1.3715\n",
      "Epoch 16/100\n",
      "31/31 [==============================] - 0s 8ms/step - loss: 1.3835 - val_loss: 1.3740\n",
      "Epoch 17/100\n",
      "31/31 [==============================] - 0s 9ms/step - loss: 1.3838 - val_loss: 1.3703\n",
      "Epoch 18/100\n",
      "31/31 [==============================] - 0s 9ms/step - loss: 1.3828 - val_loss: 1.3791\n",
      "Epoch 19/100\n",
      "31/31 [==============================] - 0s 8ms/step - loss: 1.3829 - val_loss: 1.3746\n",
      "Epoch 20/100\n",
      "31/31 [==============================] - 0s 9ms/step - loss: 1.3829 - val_loss: 1.3709\n",
      "Epoch 21/100\n",
      "31/31 [==============================] - 0s 9ms/step - loss: 1.3830 - val_loss: 1.3739\n",
      "Epoch 22/100\n",
      "31/31 [==============================] - 0s 9ms/step - loss: 1.3829 - val_loss: 1.3742\n",
      "Epoch 23/100\n",
      "31/31 [==============================] - 0s 8ms/step - loss: 1.3830 - val_loss: 1.3759\n",
      "Epoch 24/100\n",
      "31/31 [==============================] - 0s 9ms/step - loss: 1.3825 - val_loss: 1.3695\n",
      "Epoch 25/100\n",
      "31/31 [==============================] - 0s 9ms/step - loss: 1.3827 - val_loss: 1.3723\n",
      "Epoch 26/100\n",
      "31/31 [==============================] - 0s 9ms/step - loss: 1.3833 - val_loss: 1.3750\n",
      "Epoch 27/100\n",
      "31/31 [==============================] - 0s 9ms/step - loss: 1.3832 - val_loss: 1.3750\n",
      "Epoch 28/100\n",
      "31/31 [==============================] - 0s 10ms/step - loss: 1.3833 - val_loss: 1.3737\n",
      "Epoch 29/100\n",
      "31/31 [==============================] - 0s 9ms/step - loss: 1.3827 - val_loss: 1.3740\n",
      "Epoch 30/100\n",
      "31/31 [==============================] - 0s 9ms/step - loss: 1.3832 - val_loss: 1.3742\n",
      "Epoch 31/100\n",
      "31/31 [==============================] - 0s 9ms/step - loss: 1.3829 - val_loss: 1.3731\n",
      "Epoch 32/100\n",
      "31/31 [==============================] - 0s 9ms/step - loss: 1.3828 - val_loss: 1.3756\n",
      "Epoch 33/100\n",
      "31/31 [==============================] - 0s 8ms/step - loss: 1.3826 - val_loss: 1.3741\n",
      "Epoch 34/100\n",
      "31/31 [==============================] - 0s 10ms/step - loss: 1.3847 - val_loss: 1.3741\n",
      "Epoch 35/100\n",
      "31/31 [==============================] - 0s 9ms/step - loss: 1.3841 - val_loss: 1.3645\n",
      "Epoch 36/100\n",
      "31/31 [==============================] - 0s 10ms/step - loss: 1.3832 - val_loss: 1.3754\n",
      "Epoch 37/100\n",
      "31/31 [==============================] - 0s 10ms/step - loss: 1.3830 - val_loss: 1.3737\n",
      "Epoch 38/100\n",
      "31/31 [==============================] - 0s 9ms/step - loss: 1.3826 - val_loss: 1.3707\n",
      "Epoch 39/100\n",
      "31/31 [==============================] - 0s 8ms/step - loss: 1.3825 - val_loss: 1.3739\n",
      "Epoch 40/100\n",
      "31/31 [==============================] - 0s 9ms/step - loss: 1.3831 - val_loss: 1.3726\n",
      "Epoch 41/100\n",
      "31/31 [==============================] - 0s 9ms/step - loss: 1.3825 - val_loss: 1.3743\n",
      "Epoch 42/100\n",
      "31/31 [==============================] - 0s 8ms/step - loss: 1.3829 - val_loss: 1.3712\n",
      "Epoch 43/100\n",
      "31/31 [==============================] - 0s 9ms/step - loss: 1.3829 - val_loss: 1.3730\n",
      "Epoch 44/100\n",
      "31/31 [==============================] - 0s 8ms/step - loss: 1.3826 - val_loss: 1.3726\n",
      "Epoch 45/100\n",
      "31/31 [==============================] - 0s 8ms/step - loss: 1.3828 - val_loss: 1.3725\n",
      "Epoch 46/100\n",
      "31/31 [==============================] - 0s 7ms/step - loss: 1.3828 - val_loss: 1.3736\n",
      "Epoch 47/100\n",
      "31/31 [==============================] - 0s 10ms/step - loss: 1.3829 - val_loss: 1.3737\n",
      "Epoch 48/100\n",
      "31/31 [==============================] - 0s 10ms/step - loss: 1.3833 - val_loss: 1.3702\n",
      "Epoch 49/100\n",
      "31/31 [==============================] - 0s 9ms/step - loss: 1.3830 - val_loss: 1.3747\n",
      "Epoch 50/100\n",
      "31/31 [==============================] - 0s 7ms/step - loss: 1.3829 - val_loss: 1.3723\n",
      "Epoch 51/100\n",
      "31/31 [==============================] - 0s 6ms/step - loss: 1.3825 - val_loss: 1.3734\n",
      "Epoch 52/100\n",
      "31/31 [==============================] - 0s 5ms/step - loss: 1.3828 - val_loss: 1.3711\n",
      "Epoch 53/100\n",
      "31/31 [==============================] - 0s 6ms/step - loss: 1.3830 - val_loss: 1.3744\n",
      "Epoch 54/100\n",
      "31/31 [==============================] - 0s 6ms/step - loss: 1.3829 - val_loss: 1.3744\n",
      "Epoch 55/100\n",
      "31/31 [==============================] - 0s 5ms/step - loss: 1.3828 - val_loss: 1.3756\n",
      "Epoch 56/100\n",
      "31/31 [==============================] - 0s 6ms/step - loss: 1.3828 - val_loss: 1.3737\n",
      "Epoch 57/100\n",
      "31/31 [==============================] - 0s 5ms/step - loss: 1.3828 - val_loss: 1.3730\n",
      "Epoch 58/100\n",
      "31/31 [==============================] - 0s 6ms/step - loss: 1.3827 - val_loss: 1.3723\n",
      "Epoch 59/100\n",
      "31/31 [==============================] - 0s 6ms/step - loss: 1.3828 - val_loss: 1.3733\n",
      "Epoch 60/100\n",
      "31/31 [==============================] - 0s 7ms/step - loss: 1.3831 - val_loss: 1.3722\n",
      "Epoch 61/100\n",
      "31/31 [==============================] - 0s 6ms/step - loss: 1.3832 - val_loss: 1.3746\n",
      "Epoch 62/100\n",
      "31/31 [==============================] - 0s 7ms/step - loss: 1.3827 - val_loss: 1.3730\n",
      "Epoch 63/100\n",
      "31/31 [==============================] - 0s 5ms/step - loss: 1.3828 - val_loss: 1.3714\n",
      "Epoch 64/100\n",
      "31/31 [==============================] - 0s 5ms/step - loss: 1.3827 - val_loss: 1.3709\n",
      "Epoch 65/100\n",
      "31/31 [==============================] - 0s 7ms/step - loss: 1.3825 - val_loss: 1.3721\n",
      "Epoch 66/100\n",
      "31/31 [==============================] - 0s 6ms/step - loss: 1.3832 - val_loss: 1.3753\n",
      "Epoch 67/100\n",
      "31/31 [==============================] - 0s 6ms/step - loss: 1.3829 - val_loss: 1.3722\n",
      "Epoch 68/100\n",
      "31/31 [==============================] - 0s 7ms/step - loss: 1.3828 - val_loss: 1.3724\n",
      "Epoch 69/100\n",
      "31/31 [==============================] - 0s 5ms/step - loss: 1.3829 - val_loss: 1.3731\n",
      "Epoch 70/100\n",
      "31/31 [==============================] - 0s 5ms/step - loss: 1.3825 - val_loss: 1.3731\n",
      "Epoch 71/100\n",
      "31/31 [==============================] - 0s 7ms/step - loss: 1.3825 - val_loss: 1.3710\n",
      "Epoch 72/100\n",
      "31/31 [==============================] - 0s 5ms/step - loss: 1.3824 - val_loss: 1.3719\n",
      "Epoch 73/100\n",
      "31/31 [==============================] - 0s 5ms/step - loss: 1.3829 - val_loss: 1.3769\n",
      "Epoch 74/100\n",
      "31/31 [==============================] - 0s 5ms/step - loss: 1.3825 - val_loss: 1.3727\n",
      "Epoch 75/100\n",
      "31/31 [==============================] - 0s 6ms/step - loss: 1.3829 - val_loss: 1.3750\n",
      "Epoch 76/100\n",
      "31/31 [==============================] - 0s 6ms/step - loss: 1.3827 - val_loss: 1.3730\n",
      "Epoch 77/100\n",
      "31/31 [==============================] - 0s 7ms/step - loss: 1.3825 - val_loss: 1.3726\n",
      "Epoch 78/100\n",
      "31/31 [==============================] - 0s 5ms/step - loss: 1.3828 - val_loss: 1.3736\n",
      "Epoch 79/100\n",
      "31/31 [==============================] - 0s 5ms/step - loss: 1.3827 - val_loss: 1.3748\n",
      "Epoch 80/100\n",
      "31/31 [==============================] - 0s 7ms/step - loss: 1.3823 - val_loss: 1.3723\n",
      "Epoch 81/100\n",
      "31/31 [==============================] - 0s 7ms/step - loss: 1.3829 - val_loss: 1.3684\n",
      "Epoch 82/100\n",
      "31/31 [==============================] - 0s 7ms/step - loss: 1.3828 - val_loss: 1.3697\n"
     ]
    },
    {
     "name": "stdout",
     "output_type": "stream",
     "text": [
      "Epoch 83/100\n",
      "31/31 [==============================] - 0s 7ms/step - loss: 1.3823 - val_loss: 1.3725\n",
      "Epoch 84/100\n",
      "31/31 [==============================] - 0s 6ms/step - loss: 1.3823 - val_loss: 1.3741\n",
      "Epoch 85/100\n",
      "31/31 [==============================] - 0s 7ms/step - loss: 1.3827 - val_loss: 1.3723\n",
      "Epoch 86/100\n",
      "31/31 [==============================] - 0s 5ms/step - loss: 1.3829 - val_loss: 1.3721\n",
      "Epoch 87/100\n",
      "31/31 [==============================] - 0s 6ms/step - loss: 1.3830 - val_loss: 1.3740\n",
      "Epoch 88/100\n",
      "31/31 [==============================] - 0s 6ms/step - loss: 1.3825 - val_loss: 1.3713\n",
      "Epoch 89/100\n",
      "31/31 [==============================] - 0s 6ms/step - loss: 1.3826 - val_loss: 1.3721\n",
      "Epoch 90/100\n",
      "31/31 [==============================] - 0s 7ms/step - loss: 1.3828 - val_loss: 1.3730\n",
      "Epoch 91/100\n",
      "31/31 [==============================] - 0s 5ms/step - loss: 1.3833 - val_loss: 1.3772\n",
      "Epoch 92/100\n",
      "31/31 [==============================] - 0s 7ms/step - loss: 1.3825 - val_loss: 1.3711\n",
      "Epoch 93/100\n",
      "31/31 [==============================] - 0s 6ms/step - loss: 1.3828 - val_loss: 1.3717\n",
      "Epoch 94/100\n",
      "31/31 [==============================] - 0s 6ms/step - loss: 1.3825 - val_loss: 1.3720\n",
      "Epoch 95/100\n",
      "31/31 [==============================] - 0s 7ms/step - loss: 1.3831 - val_loss: 1.3703\n",
      "Epoch 96/100\n",
      "31/31 [==============================] - 0s 5ms/step - loss: 1.3828 - val_loss: 1.3737\n",
      "Epoch 97/100\n",
      "31/31 [==============================] - 0s 6ms/step - loss: 1.3826 - val_loss: 1.3739\n",
      "Epoch 98/100\n",
      "31/31 [==============================] - 0s 7ms/step - loss: 1.3830 - val_loss: 1.3734\n",
      "Epoch 99/100\n",
      "31/31 [==============================] - 0s 5ms/step - loss: 1.3831 - val_loss: 1.3736\n",
      "Epoch 100/100\n",
      "31/31 [==============================] - 0s 6ms/step - loss: 1.3828 - val_loss: 1.3721\n"
     ]
    },
    {
     "data": {
      "text/plain": [
       "<keras.callbacks.History at 0x21aaca23ac0>"
      ]
     },
     "execution_count": 11,
     "metadata": {},
     "output_type": "execute_result"
    }
   ],
   "source": [
    "model = Sequential()\n",
    "model.add(Conv1D(filters=32, kernel_size=1, padding='same', activation='tanh',batch_input_shape=(None,time_step,feature)))\n",
    "model.add(MaxPooling1D(pool_size=1,padding='same'))\n",
    "model.add(LSTM(64,activation='tanh'))\n",
    "model.add(Dense(1))\n",
    "model.compile(optimizer='adam', loss=keras.losses.MeanAbsoluteError())\n",
    "model.fit(train_x, train_y, validation_data=(test_x,test_y), epochs=100)"
   ]
  },
  {
   "cell_type": "code",
   "execution_count": 12,
   "id": "fba5d851",
   "metadata": {},
   "outputs": [
    {
     "name": "stdout",
     "output_type": "stream",
     "text": [
      "Model: \"sequential\"\n",
      "_________________________________________________________________\n",
      " Layer (type)                Output Shape              Param #   \n",
      "=================================================================\n",
      " conv1d (Conv1D)             (None, 10, 32)            224       \n",
      "                                                                 \n",
      " max_pooling1d (MaxPooling1D  (None, 10, 32)           0         \n",
      " )                                                               \n",
      "                                                                 \n",
      " lstm (LSTM)                 (None, 64)                24832     \n",
      "                                                                 \n",
      " dense (Dense)               (None, 1)                 65        \n",
      "                                                                 \n",
      "=================================================================\n",
      "Total params: 25,121\n",
      "Trainable params: 25,121\n",
      "Non-trainable params: 0\n",
      "_________________________________________________________________\n",
      "None\n"
     ]
    }
   ],
   "source": [
    "print(model.summary())"
   ]
  },
  {
   "cell_type": "markdown",
   "id": "8a8ecfda",
   "metadata": {},
   "source": [
    "#### Input standardised test data into the model to predict the output."
   ]
  },
  {
   "cell_type": "code",
   "execution_count": 13,
   "id": "87892143",
   "metadata": {},
   "outputs": [
    {
     "name": "stdout",
     "output_type": "stream",
     "text": [
      "8/8 [==============================] - 0s 3ms/step\n"
     ]
    }
   ],
   "source": [
    "predicted  = model.predict(test_x) "
   ]
  },
  {
   "cell_type": "code",
   "execution_count": 14,
   "id": "15dce3ce",
   "metadata": {},
   "outputs": [],
   "source": [
    "predicted=np.array(predicted[:,0]).reshape(-1,1) #Array with adjcp of predicted data"
   ]
  },
  {
   "cell_type": "markdown",
   "id": "3ff33234",
   "metadata": {},
   "source": [
    "#### The output value obtained through the model of CNN-LSTM is the standardized value, and the standardized value is restored to the original value using the corresponding means and standard deviations of that time step."
   ]
  },
  {
   "cell_type": "code",
   "execution_count": 15,
   "id": "a0a0541e",
   "metadata": {},
   "outputs": [],
   "source": [
    "for j in range(len(train_x) , len(train_x) + len(test_x)):\n",
    "    m5=np.mean(np.array(data.iloc[j:j+time_step,adjcol]))\n",
    "    s5=np.std(np.array(data.iloc[j:j+time_step,adjcol]))\n",
    "    test_y[j - len(train_x)] = test_y[j - len(train_x)] * s5 + m5\n",
    "    predicted[j - len(train_x)] = predicted[j - len(train_x)] * s5 + m5"
   ]
  },
  {
   "cell_type": "code",
   "execution_count": 16,
   "id": "6b05541d",
   "metadata": {},
   "outputs": [],
   "source": [
    "day=np.array([i for i in range(num_test)]) #Array with days index for X-axis of plot\n",
    "testy=test_y[:,:,adjcol] #Array with adjcp of the actual data"
   ]
  },
  {
   "cell_type": "markdown",
   "id": "7a777278",
   "metadata": {},
   "source": [
    "#### Plotting the actual data vs predicted data"
   ]
  },
  {
   "cell_type": "code",
   "execution_count": 17,
   "id": "bd2806a6",
   "metadata": {},
   "outputs": [
    {
     "data": {
      "image/png": "[encoded data removed]",
      "text/plain": [
       "<Figure size 576x432 with 1 Axes>"
      ]
     },
     "metadata": {
      "needs_background": "light"
     },
     "output_type": "display_data"
    }
   ],
   "source": [
    "import matplotlib.pyplot as plt\n",
    "plt.figure(figsize=(8,6))\n",
    "plt.plot(day,testy, color = 'orange', lw=1.5)\n",
    "plt.plot(day,predicted.reshape(num_test), color = 'blue', lw=2.5)\n",
    "plt.title(\"Stock Prediction using CNN-LSTM\")\n",
    "plt.xlabel('Days')\n",
    "plt.ylabel('Stock Price')\n",
    "plt.legend(['Actual Stock Price', 'Predicted Stock Price']);"
   ]
  },
  {
   "cell_type": "code",
   "execution_count": 18,
   "id": "abc23f39",
   "metadata": {},
   "outputs": [
    {
     "name": "stdout",
     "output_type": "stream",
     "text": [
      "Mean Absolute Error: 83.18753111943225\n"
     ]
    }
   ],
   "source": [
    "mae=np.mean(abs(testy-predicted.reshape(num_test))) #Mean Absolute Error of the prediction\n",
    "print(f\"Mean Absolute Error: {mae}\")"
   ]
  },
  {
   "cell_type": "code",
   "execution_count": 19,
   "id": "851b8250",
   "metadata": {},
   "outputs": [
    {
     "name": "stdout",
     "output_type": "stream",
     "text": [
      "Mean of Actual Data: 420.1339632162563\n"
     ]
    }
   ],
   "source": [
    "mean_y=np.mean(testy)\n",
    "print(f\"Mean of Actual Data: {mean_y}\")"
   ]
  },
  {
   "cell_type": "code",
   "execution_count": 20,
   "id": "9c356c16",
   "metadata": {},
   "outputs": [
    {
     "name": "stdout",
     "output_type": "stream",
     "text": [
      "19.80023954326515% of mean stock price is the mean absolute error\n"
     ]
    }
   ],
   "source": [
    "err=mae*100/mean_y\n",
    "print(f\"{err}% of mean stock price is the mean absolute error\")"
   ]
  },
  {
   "cell_type": "markdown",
   "id": "142e344f",
   "metadata": {},
   "source": [
    "#### Thus, the implementation has concluded with the model prediction accuracy (with respect to mean absolute error) being approximately 81.2%."
   ]
  }
 ],
 "metadata": {
  "kernelspec": {
   "display_name": "Python 3 (ipykernel)",
   "language": "python",
   "name": "python3"
  },
  "language_info": {
   "codemirror_mode": {
    "name": "ipython",
    "version": 3
   },
   "file_extension": ".py",
   "mimetype": "text/x-python",
   "name": "python",
   "nbconvert_exporter": "python",
   "pygments_lexer": "ipython3",
   "version": "3.9.7"
  }
 },
 "nbformat": 4,
 "nbformat_minor": 5
}
