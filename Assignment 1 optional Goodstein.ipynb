{
 "cells": [
  {
   "cell_type": "code",
   "execution_count": 1,
   "id": "cc164906",
   "metadata": {},
   "outputs": [],
   "source": [
    "from numpy import *\n",
    "def goodstein(m,k): #kth term of G(m)\n",
    "    b=[]\n",
    "    r=2\n",
    "    f=3\n",
    "    while(m>0):\n",
    "        a=int(math.log(m,r))\n",
    "        m=m-2**a\n",
    "        b.append(2**a)\n",
    "    for i in range(k-1):\n",
    "        x=len(b)\n",
    "        for j in range(x):\n",
    "            y=math.log(b[j],r)\n",
    "            if y!=r:\n",
    "                b[j]=f**y\n",
    "            elif y==0:\n",
    "                b[j]=1\n",
    "            else:\n",
    "                b[j]=f**f\n",
    "        b.append(-1)\n",
    "        h=sum(b)\n",
    "        z1=h\n",
    "        b.clear()\n",
    "        while(h>0):\n",
    "            t1=int(math.log(h,f))\n",
    "            h=h-f**t1\n",
    "            b.append(f**t1)\n",
    "        f+=1\n",
    "        r+=1\n",
    "        if (sum(b)==0):\n",
    "            print(\"%d term is 0\" %(i+2))\n",
    "            break\n",
    "    return z1"
   ]
  },
  {
   "cell_type": "code",
   "execution_count": null,
   "id": "d06d9191",
   "metadata": {},
   "outputs": [],
   "source": []
  }
 ],
 "metadata": {
  "kernelspec": {
   "display_name": "Python 3 (ipykernel)",
   "language": "python",
   "name": "python3"
  },
  "language_info": {
   "codemirror_mode": {
    "name": "ipython",
    "version": 3
   },
   "file_extension": ".py",
   "mimetype": "text/x-python",
   "name": "python",
   "nbconvert_exporter": "python",
   "pygments_lexer": "ipython3",
   "version": "3.9.7"
  }
 },
 "nbformat": 4,
 "nbformat_minor": 5
}
