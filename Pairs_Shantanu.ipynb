{
 "cells": [
  {
   "cell_type": "markdown",
   "metadata": {
    "id": "dBmd8kyLfMIg"
   },
   "source": [
    "## Paired Switching\n",
    "\n",
    "The idea behind this strategy is that if the assets are negatively correlated, then a traditional mixed portfolio might lead to a lower return than the return for the individual assets.\n",
    "\n",
    "We periodically compute the Co-relation Coefficients' Matrix and choose pair of stocks which have the most negative co-relations and trade in them. The basic idea being that if one of them would fall, then the other would rise and hence, we must switch between them!\n",
    "\n",
    "We need a re-balancing period ,i.e. The time after which we would be again calculating the co-relations and taking a different pair of stocks : **T**\n",
    "\n",
    "We would also need to keep switching between these selected stocks in a pair at a certain interval of time : **P**\n",
    "\n",
    "Next, We need to specify how many such pairs would we be trading in : **M**\n",
    "\n",
    "The Fraction of the total balance we would be investing on every turn : **R**\n",
    "\n",
    "The Brokerage Fee as a fraction of the total transaction amount : **F**\n",
    "\n"
   ]
  },
  {
   "cell_type": "code",
   "execution_count": 1,
   "metadata": {
    "id": "KhmpNcaUextd"
   },
   "outputs": [],
   "source": [
    "import numpy as np\n",
    "import pandas as pd\n",
    "import datetime\n",
    "import matplotlib.pyplot as plt\n",
    "import seaborn as sns\n",
    "\n",
    "T = 60\n",
    "P = 7\n",
    "M = 4\n",
    "R = 0.8\n",
    "F = 0.0005\n",
    "B= 10000"
   ]
  },
  {
   "cell_type": "markdown",
   "metadata": {
    "id": "6zepnFA0xjvI"
   },
   "source": [
    "### Few Upcoming Functions(GetData and PartitionData) would be similar to the ones you encountered in the Momentum Assignment (Feel free to Copy-Paste your code from there!)"
   ]
  },
  {
   "cell_type": "markdown",
   "metadata": {
    "id": "YZQH1NuRyGLy"
   },
   "source": [
    "In the file DATA.csv , which we had uploaded in our repository, we have prices of 30 firms enlisted in S & P 500 Index (Apple, IBM, Cisco, Walmart and the like!) from 2nd January 2009 to 17th August 2020.\n",
    "\n",
    "For our purposes, We'll only be requiring certain columns. On an honest note, Just getting the Columns on Ticker, Date and Adjusted Closing Price would do the job, but if you want, you may take Opening Price as well.\n",
    "\n",
    "Read up about the [pandas.read_csv](https://pandas.pydata.org/docs/reference/api/pandas.read_csv.html) function from here, and figure out how you'll use it to do the job (You don't need all the columns!) "
   ]
  },
  {
   "cell_type": "code",
   "execution_count": 2,
   "metadata": {
    "id": "Ka_L9Ne6yOGY"
   },
   "outputs": [],
   "source": [
    "def GetData(NameOfFile):\n",
    "    a=pd.read_csv(NameOfFile,usecols=['datadate','tic','adjcp','open'])\n",
    "    b=pd.DataFrame(a)\n",
    "    return b # pd.DataFrame Object"
   ]
  },
  {
   "cell_type": "markdown",
   "metadata": {
    "id": "xJILaZUYySQW"
   },
   "source": [
    "To aid Data-Manipulation, it would be beneficial, if we split the DataFrame into many small parts each corresponding to the data corresponding to the 30 Tickers on a particular date. These small parts could then be stored in a list.\n",
    "\n",
    "We would also be needing to remember which date is at what index, so that we can use that later. "
   ]
  },
  {
   "cell_type": "code",
   "execution_count": 3,
   "metadata": {
    "id": "I0jUbPe_yiGU"
   },
   "outputs": [],
   "source": [
    "def PartitionData(Data):\n",
    "    DateToIndex = {}\n",
    "    for i in range(len(Data['datadate'])):\n",
    "        if (str(Data['datadate'][i]) in DateToIndex.keys()):\n",
    "            DateToIndex[str(Data['datadate'][i])].append(i)\n",
    "        else:\n",
    "            DateToIndex.update({str(Data['datadate'][i]):[i]})\n",
    "    x=len(Data['datadate'])\n",
    "    return [np.array_split(Data,x/30),DateToIndex] # List containing of the Data Partitioned according to Date, and the Dictionary mapping Dates to their index in the list "
   ]
  },
  {
   "cell_type": "markdown",
   "metadata": {
    "id": "abBu6bdrqpcD"
   },
   "source": [
    "Now, We need a function which takes as input a pair of stocks (as indices in range 0-29), Today's date,  alongwith the Partitioned DataFrames which will tell us which of the two stocks has a better outlook for the future, and we'll simply move all our Money from one of them to the other. \n",
    "\n",
    "This will be done once in every **P** trading sessions.\n",
    "\n",
    "You could choose between the two stocks in a number of ways, the simplest of which can be what you did in the last assignment, the Momentum Indicator (i.e. Take the difference between the prices of the stocks in a certain number of days and do your deed! Remember this number of days **N** must be <= **T**)\n",
    "\n",
    "You may also use other indicators like [RSI](https://www.investopedia.com/terms/r/rsi.asp), [Stochs](https://www.investopedia.com/terms/s/stochasticoscillator.asp), [MACD](https://www.investopedia.com/terms/m/macd.asp) or anything else! (If you decide to use MACD or RSI, you could either implement other functions to calculate them or simply change your ParitionData() function to get the MACD and RSI values as they are already stored there for you!)\n",
    "\n",
    "You need not worry about getting the nearest dates (or dates at all) in this case, because all you care about is co-relations in long term and growth in short-term so it doesn't matter if you're ahead or behind a few days!\n",
    "\n",
    "'today' would be an index(integer), i.e. an index on the PartitionedDataFrames list denoting where we are at currently!\n",
    "\n",
    "Also, as you may have figured it out yourself, while DataFrames are great for Data Handling and small statistical calculations, They aren't so for big calculations as the Numpy Library has both a richer variety of functions for such manipulations and is also more efficient!\n"
   ]
  },
  {
   "cell_type": "code",
   "execution_count": 4,
   "metadata": {
    "id": "hUViRxVXwrB5"
   },
   "outputs": [],
   "source": [
    "def GetMomentumBasedPriority(PartitionedDataFrameList, DateToIndex ,today):\n",
    "  # PartitionedDataFrameList : Pandas DataFrame, The Output of your last function\n",
    "  # DateToIndex : Dictionary mapping dates to their index in the PartitionedDataFrameList\n",
    "  # today :  Today's date (string) In Format: YYYYMMDD\n",
    "\n",
    "\n",
    "  #NdaysAgo is a datatime.date() object contining the required data, you need to convert it to a string and then check if its\n",
    "  #actually there in the Data you have or will you have to get going using some other nearest date\n",
    "\n",
    "    NdaysAgo = datetime.date(int(today[0:4]),int(today[4:6]),int(today[6:])) + datetime.timedelta(days = -N)\n",
    "\n",
    "  #START CODE HERE!\n",
    "    i = 0\n",
    "    while i<10:\n",
    "        a=str(NdaysAgo + datetime.timedelta(days = -i)).replace('-','')\n",
    "        if (a in DateToIndex.keys()):\n",
    "            break\n",
    "        i += 1\n",
    "    j=DateToIndex[today][-1]\n",
    "    k=DateToIndex[a][-1]\n",
    "    h=(k%30)\n",
    "    Momentum=np.array(PartitionedDataFrameList[j//30]['adjcp'])-np.array(PartitionedDataFrameList[k//30]['adjcp'])\n",
    "    sum1=np.array(PartitionedDataFrameList[j%30]['adjcp'])\n",
    "    for i in range((DateToIndex[a][0]+30),(DateToIndex[today][0]),30):\n",
    "        sum1+=np.array(PartitionedDataFrameList[h+1]['adjcp'])\n",
    "        h+=1\n",
    "\n",
    "    return Momentum*N/sum1   #Numpy Array containing the Momentum divided by mean(in the N-day period considered) of all the 30 tickers, in the required order.\n",
    "\n",
    "def GetBalanced(prices, weights,balance):\n",
    "  # prices : Numpy array containing Prices of all the 30 Stocks\n",
    "  # weights : Multi-hot Numpy Array : The Elements corresponding to stocks which are to be bought(Top M Stocks with positive Momentum Indicator) are set to their priority, All other elements are set to zero.\n",
    "  # Returns Numpy array containing the number of shares to buy for each stock!\n",
    "    x=np.sort(weights)\n",
    "    weights1=np.flip(x)\n",
    "    for i in range(M,len(weights1)):\n",
    "        weights1[i]=0\n",
    "    for i in range(len(weights)):\n",
    "        if weights[i] not in weights1:\n",
    "            weights[i]=0\n",
    "        if weights[i]<=0:\n",
    "            weights[i]=0\n",
    "    sum1=np.sum(weights)\n",
    "    sum2=np.sum(weights*prices)\n",
    "    if sum2<=0:\n",
    "        return np.zeros(30)\n",
    "    return (balance/sum2)*weights\n",
    "\n",
    "def Switch(firstStock, SecondStock, today ,PartitionedDataFrames):\n",
    "    weights = GetMomentumBasedPriority(PartitionedDataFrames, DateToIndex, today)\n",
    "    if weights[firstStock] > weights[SecondStock]:\n",
    "        return firstStock\n",
    "    else:\n",
    "        return SecondStock #One of two(firstStock/SecondStock) depending on which should grow more in the future."
   ]
  },
  {
   "cell_type": "markdown",
   "metadata": {
    "id": "CBZqJ_CszZbL"
   },
   "source": [
    "Now, We need something to simulate our [Portfolio](https://www.investopedia.com/terms/p/portfolio.asp). In order to do that we need a class, which has certain  basic features and functionalities.\n",
    "\n",
    "(Again some of the functions here, would be same as the previous assignment, so feel free to Copy-Paste)\n",
    "\n",
    "Features : \n",
    "\n",
    "\n",
    "1.   Your Initial Balance\n",
    "2.   Your Current Balance (Money which isn't invested!)\n",
    "3.   A list(/any other container) storing the number of stocks of each ticker currently in possession. (Numpy Array prefered)\n",
    "4.   Most recent prices of all the stocks (As a Numpy array)\n",
    "5.   A list of **M** or less(as it might be that less than **M** stocks are negatively co-related) Tuples of indices (i,j) where i and j are the indices (from 0-29) of stocks which are negatively co-related.\n",
    "\n",
    "Functionalities: \n",
    "\n",
    "\n",
    "\n",
    "1.   Calculating current Net Worth (Balance+Total Evaluation of all Stocks owned!) \n",
    "2.   Buying a Particular Stock (Keep the Transaction fee in mind!)\n",
    "3.   Selling a particular Stock whole (Keep the Transaction Fee in mind!)\n",
    "4.   Change Pairs (**T** period intervals) (Takes PartitionedDataFrame, DateT and today's date as input)\n",
    "5.   Rebalance Portfolio (**P** period intervals) (Takes O)\n",
    "6.   Function to change the value of most recent prices stored (Takes Numpy array as input)\n",
    "\n",
    "\n",
    "You may want to know about Numpy's Corrcoef ([np.corrcoef](https://numpy.org/doc/stable/reference/generated/numpy.corrcoef.html)) function!\n"
   ]
  },
  {
   "cell_type": "code",
   "execution_count": 5,
   "metadata": {
    "id": "SFJOHvgS1aq0"
   },
   "outputs": [],
   "source": [
    "class PortFolio:\n",
    "    def __init__(self,numStocks,balance,nc,prices): \n",
    "    #Initialize all variables\n",
    "        self.balance=balance\n",
    "        self.numStocks=numStocks\n",
    "        self.prices=prices\n",
    "        self.nc=nc\n",
    "        self.numStocks+=GetBalanced(prices,GetMomentumBasedPriority(PartitionedData))\n",
    "\n",
    "    def SellStock(self, index, number=1000000):\n",
    "    #index : The index of the Stock to sell (0-29)\n",
    "    #number: Number of shares to sell\n",
    "        if (number==1000000):\n",
    "            number=self.myStocks[index]\n",
    "        self.balance+=number*self.prices[index]*(1-F)\n",
    "        self.myStocks[index]-=number\n",
    "  \n",
    "    def BuyStock(self,index, number):\n",
    "    #index : The index of the Stock to buy (0-29) \n",
    "    #number : Number of shares to buy (float)\n",
    "        self.balance-=number*self.prices[index]*(1+F)\n",
    "        self.myStocks[index]+=number\n",
    "\n",
    "    def CalculateNetWorth(self):\n",
    "    #Return Net Worth (All Shares' costs+ Balance)\n",
    "        return self.balance+np.sum(self.myStocks*self.prices)*(1-F)\n",
    "\n",
    "\n",
    "    def ChangePricesTo(self,newPriceVector):\n",
    "    # newPriceVector : Numpy array containing the prices of all the stocks for the current day\n",
    "        self.prices=newPriceVector\n",
    "\n",
    "    def ChangePairs(self):  \n",
    "    # Calls the Switch function for all the pairs of stocks owned\n",
    "        if self.negCorr == []:\n",
    "            return\n",
    "        for i in range(len(self.negCorr) - 1):\n",
    "            x = Switch(self.negCorr[i][0],self.negCorr[i][1],today,PartitionedData)\n",
    "            y = self.negCorr[i][0] + self.negCorr[i][1] - x\n",
    "            credit = self.numStocks[y] * self.prices[y] * (1 - F)\n",
    "            self.numStocks[y] = 0\n",
    "            self.numStocks[x] += credit / (self.prices[x] * (1 + F))\n",
    "\n",
    "  \n",
    "    def RebalancePortfolio(self):\n",
    "    # Calculates the Co-relation Matrix and changes the list of pairs, which you'll be using to trade\n",
    "    # You'll have to take care of cases, where a single stock would be involved in two or more of the most negatively co-related Stocks\n",
    "    # It would be a good idea, to call BuyStock and SellStock from here itself, instead of calling ChangePairs later as it will cause havoc that way\n",
    "        TdaysAgo = datetime.date(int(today[0:4]),int(today[4:6]),int(today[6:])) + datetime.timedelta(days = -T)\n",
    "        i = 0\n",
    "        while i >= 0:\n",
    "            x = str(TdaysAgo - datetime.timedelta(days = i)).replace('-','')\n",
    "            if (x in DateToIndex.keys()):\n",
    "                break\n",
    "            i += 1\n",
    "        temp = x\n",
    "        Sum = [np.array(PartitionedData[DateToIndex[today] % 2926]['adjcp'])]\n",
    "        for i in range((DateToIndex[temp] + 1), (DateToIndex[today]),30):\n",
    "            Sum.append(np.array(PartitionedData[i % 2926]['adjcp']))\n",
    "        corrCoef = np.corrcoef(np.array(Sum))\n",
    "        copy = np.sort(corrCoef.flatten())\n",
    "        for k in range(M):\n",
    "            for i in range(corrCoef.shape[0]):\n",
    "                for j in range(30):\n",
    "                    if abs(corrCoef[i][j] - copy[k]) < 1e-10:\n",
    "                        self.negCorr.append((i,j))\n",
    "        self.negCorr = self.negCorr[0:M]\n",
    "        copy = self.negCorr.copy()\n",
    "        if self.negCorr == []:\n",
    "            return\n",
    "        for i in range(len(self.negCorr) - 1):\n",
    "            for j in range(i + 1, len(self.negCorr)):\n",
    "                x = list(self.negCorr[i])\n",
    "                y = list(self.negCorr[j])\n",
    "                if x[0] == y[0] or x[0] == y[1] or x[1] == y[0] or x[1] == y[1]:\n",
    "                    if self.negCorr[j] in copy and copy.count(self.negCorr[j]) > 1:\n",
    "                        copy.remove(self.negCorr[j])\n",
    "        self.negCorr = copy.copy()\n",
    "        self.ChangePairs()"
   ]
  },
  {
   "cell_type": "markdown",
   "metadata": {
    "id": "S2Sv0OPB6QiL"
   },
   "source": [
    "With that the difficult part is over!\n",
    "\n",
    "Now, all you need to work on is a main loop, which calls all these functions"
   ]
  },
  {
   "cell_type": "code",
   "execution_count": null,
   "metadata": {
    "id": "8qTWYyDn6mjt"
   },
   "outputs": [],
   "source": [
    "#First Get the Data\n",
    "Data = GetData(\"Momentum Data.csv\")\n",
    "List = PartitionData(Data)\n",
    "PartitionedData=List[0] \n",
    "DateToIndex= List[1]\n",
    "\n",
    "#\n",
    "myPortfolio = PortFolio(B * R,np.zeros(30, dtype = float),[],np.array(PartitionedData[int(list(DateToIndex.keys())[T]) % 2926]['adjcp']))\n",
    "NetWorthAfterEachTrade = [myPortfolio.CalculateNetWorth() + B * (1 - R)]\n",
    "\n",
    "#Start processing from the (T+1)th Day(among the ones recorded in the Data)\n",
    "for i in range((T + 1),len(PartitionedData)):\n",
    "  # Change the Prices to the ith Term\n",
    "  # Get NetWorth and store in list\n",
    "  # Check if you need to rebalance Portfolio's Today\n",
    "  # Check if you need to switch stocks today\n",
    "    today = list(DateToIndex.keys())[i]\n",
    "    myPortfolio.ChangePricesTo(np.array(PartitionedData[int(today) % 2926]['adjcp']))\n",
    "    NetWorthAfterEachTrade.append(myPortfolio.CalculateNetWorth() + B * (1 - R))\n",
    "    if (i % T == 0):\n",
    "        myPortfolio.RebalancePortfolio()\n",
    "    if (i % P == 0):\n",
    "        myPortfolio.ChangePairs()\n",
    "\n",
    "VisualizeData(NetWorthAfterEachTrade[:D])"
   ]
  },
  {
   "cell_type": "markdown",
   "metadata": {
    "id": "kwewPN3O6yIF"
   },
   "source": [
    "You may need to declare the PartitionedData list global, depending on your implementation of the Above snippet as well as the various functions in the Portfolio class."
   ]
  },
  {
   "cell_type": "markdown",
   "metadata": {
    "id": "7JBJY3YU7M2C"
   },
   "source": [
    "##Moment of Truth\n",
    "\n",
    "Time to check, if your Program actually works!\n",
    "\n",
    "Plot the data you collected in various ways (Profits, PercentageProfits etc.) and see if what you did worked!\n",
    "\n",
    "Feel free to use whichever one of Matplotlib or Seaborn you want to.\n",
    "\n",
    "Feel free to copy-paste your code from the previous assignment!"
   ]
  },
  {
   "cell_type": "code",
   "execution_count": null,
   "metadata": {
    "id": "lPQny8RK7tmN"
   },
   "outputs": [],
   "source": [
    "def VisualizeData(FinalData):\n",
    "    plt.plot(FinalData)\n",
    "    plt.show()  "
   ]
  }
 ],
 "metadata": {
  "colab": {
   "collapsed_sections": [],
   "name": "Pairs.ipynb",
   "provenance": []
  },
  "kernelspec": {
   "display_name": "Python 3 (ipykernel)",
   "language": "python",
   "name": "python3"
  },
  "language_info": {
   "codemirror_mode": {
    "name": "ipython",
    "version": 3
   },
   "file_extension": ".py",
   "mimetype": "text/x-python",
   "name": "python",
   "nbconvert_exporter": "python",
   "pygments_lexer": "ipython3",
   "version": "3.9.7"
  }
 },
 "nbformat": 4,
 "nbformat_minor": 1
}
